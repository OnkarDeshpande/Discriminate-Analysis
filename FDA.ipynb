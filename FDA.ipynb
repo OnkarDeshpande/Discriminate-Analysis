{
 "cells": [
  {
   "cell_type": "code",
   "execution_count": 1,
   "metadata": {
    "collapsed": true
   },
   "outputs": [],
   "source": [
    "import numpy as np\n",
    "from sklearn import datasets\n",
    "import pandas as pd"
   ]
  },
  {
   "cell_type": "code",
   "execution_count": 2,
   "metadata": {},
   "outputs": [
    {
     "data": {
      "text/html": [
       "<div>\n",
       "<style scoped>\n",
       "    .dataframe tbody tr th:only-of-type {\n",
       "        vertical-align: middle;\n",
       "    }\n",
       "\n",
       "    .dataframe tbody tr th {\n",
       "        vertical-align: top;\n",
       "    }\n",
       "\n",
       "    .dataframe thead th {\n",
       "        text-align: right;\n",
       "    }\n",
       "</style>\n",
       "<table border=\"1\" class=\"dataframe\">\n",
       "  <thead>\n",
       "    <tr style=\"text-align: right;\">\n",
       "      <th></th>\n",
       "      <th>Sepal.Length</th>\n",
       "      <th>Sepal.Width</th>\n",
       "      <th>Petal.Length</th>\n",
       "      <th>Petal.Width</th>\n",
       "      <th>Species</th>\n",
       "    </tr>\n",
       "  </thead>\n",
       "  <tbody>\n",
       "    <tr>\n",
       "      <th>0</th>\n",
       "      <td>5.1</td>\n",
       "      <td>3.5</td>\n",
       "      <td>1.4</td>\n",
       "      <td>0.2</td>\n",
       "      <td>0</td>\n",
       "    </tr>\n",
       "    <tr>\n",
       "      <th>1</th>\n",
       "      <td>4.9</td>\n",
       "      <td>3.0</td>\n",
       "      <td>1.4</td>\n",
       "      <td>0.2</td>\n",
       "      <td>0</td>\n",
       "    </tr>\n",
       "    <tr>\n",
       "      <th>2</th>\n",
       "      <td>4.7</td>\n",
       "      <td>3.2</td>\n",
       "      <td>1.3</td>\n",
       "      <td>0.2</td>\n",
       "      <td>0</td>\n",
       "    </tr>\n",
       "    <tr>\n",
       "      <th>3</th>\n",
       "      <td>4.6</td>\n",
       "      <td>3.1</td>\n",
       "      <td>1.5</td>\n",
       "      <td>0.2</td>\n",
       "      <td>0</td>\n",
       "    </tr>\n",
       "    <tr>\n",
       "      <th>4</th>\n",
       "      <td>5.0</td>\n",
       "      <td>3.6</td>\n",
       "      <td>1.4</td>\n",
       "      <td>0.2</td>\n",
       "      <td>0</td>\n",
       "    </tr>\n",
       "  </tbody>\n",
       "</table>\n",
       "</div>"
      ],
      "text/plain": [
       "   Sepal.Length  Sepal.Width  Petal.Length  Petal.Width  Species\n",
       "0           5.1          3.5           1.4          0.2        0\n",
       "1           4.9          3.0           1.4          0.2        0\n",
       "2           4.7          3.2           1.3          0.2        0\n",
       "3           4.6          3.1           1.5          0.2        0\n",
       "4           5.0          3.6           1.4          0.2        0"
      ]
     },
     "execution_count": 2,
     "metadata": {},
     "output_type": "execute_result"
    }
   ],
   "source": [
    "data = pd.read_csv('iris_data.csv')\n",
    "data['Species'] = data['Species'].astype('category').cat.codes\n",
    "data.head()"
   ]
  },
  {
   "cell_type": "code",
   "execution_count": 3,
   "metadata": {
    "collapsed": true
   },
   "outputs": [],
   "source": [
    "data_x = data[[item for item in data.columns[:4]]]\n",
    "data_y = data[['Species']]"
   ]
  },
  {
   "cell_type": "code",
   "execution_count": 4,
   "metadata": {
    "collapsed": true
   },
   "outputs": [],
   "source": [
    "def polybasis(data, degree=1, monomial = False):\n",
    "    \"\"\"\n",
    "    type(x): pandas dataframe\n",
    "    type(degree): int\n",
    "    type(monomial): Bool\n",
    "    \n",
    "    returns: polybasis of x as pandas dataframe\n",
    "    \"\"\"\n",
    "    col_names = data.columns\n",
    "    x = np.asarray(data)\n",
    "    row,col = data.shape\n",
    "    \n",
    "    if degree >= 3:\n",
    "        print(\"This is not a smart polynomial routine.\\\n",
    "        You may get numerical problems with a degree of 3 or more\")\n",
    "    \n",
    "    if col==1:\n",
    "        monomial = True\n",
    "    if degree > 1:\n",
    "        if monomial:\n",
    "            ini_data = data\n",
    "            tmp_data = ini_data\n",
    "            cc = ['1']\n",
    "            for _ in range(1,degree):\n",
    "                tmp_data*=ini_data\n",
    "                x = np.concatenate((x,tmp_data),axis=1)\n",
    "                cc.append(str(_+1))\n",
    "        else:\n",
    "            matarray = np.repeat(x[:,:,np.newaxis], degree, axis=2)\n",
    "            for _ in range(1,degree):\n",
    "                matarray[:, :, _] =np.power(x,_+1) \n",
    "            matarray = np.transpose(matarray,(0,2,1))\n",
    "            \n",
    "            x = matarray[:, :, col-1 ]\n",
    "            \n",
    "            ad0 = list(range(1,degree+1))\n",
    "            ad = ad0\n",
    "            ncol_mat0 = degree\n",
    "            ncol_x = degree\n",
    "            d0 = [str(item) for item in ad0]\n",
    "            cc = d0\n",
    "\n",
    "            for _ in range(col-2,-1,-1):\n",
    "                index0 = list(range(1,ncol_mat0+1))*ncol_x\n",
    "                index = [item for item in range(1,ncol_x+1) for _ in range(ncol_mat0)]\n",
    "                newad = [ad0[index0[i]-1]+ad[index[i]-1] for i in range(len(index0))]\n",
    "                retain = [ True if newad[i]<=degree else False for i in range(len(newad))]\n",
    "                \n",
    "                mat0 = matarray[:, :, _]\n",
    "                tmp_index0 = [index0[i]-1 for i in range(len(index0)) if retain[i]]\n",
    "                tmp_index = [index[i]-1 for i in range(len(index)) if retain[i]]\n",
    "                if any(retain):\n",
    "                    newmat = np.multiply(mat0[:, tmp_index0 ], x[:,tmp_index])\n",
    "                \n",
    "\n",
    "                ddn = [ele+val for ele,val in zip([d0[ele] for ele in tmp_index0],\\\n",
    "                                                 [cc[ele] for ele in tmp_index])]        \n",
    "                zeros = '0'*sum(retain)\n",
    "                cc = ['0'+ele for ele in cc]\n",
    "                d00 = [ele+zeros for ele in d0]\n",
    "                x = np.concatenate((mat0,x,newmat), axis=1)\n",
    "                cc = d00+cc+ddn\n",
    "                ad = ad0+ad+ [newad[i] for i in range(len(newad)) if retain[i]]\n",
    "                ncol_x = len(ad)\n",
    "#             if dn:\n",
    "        col_names = cc\n",
    "    \n",
    "    data = pd.DataFrame(x,columns=col_names)\n",
    "    data['intercept'] = 1\n",
    "\n",
    "    \n",
    "    \n",
    "    return data\n",
    "        \n",
    "        \n",
    "        "
   ]
  },
  {
   "cell_type": "code",
   "execution_count": 5,
   "metadata": {
    "collapsed": true
   },
   "outputs": [],
   "source": [
    "# ret = polybasis(pd.DataFrame(data_x['Sepal.Length']),degree = 2)\n",
    "# ret =  polybasis(data_x,degree =2)"
   ]
  },
  {
   "cell_type": "code",
   "execution_count": 6,
   "metadata": {},
   "outputs": [],
   "source": [
    "# ret.head()"
   ]
  },
  {
   "cell_type": "code",
   "execution_count": 7,
   "metadata": {
    "collapsed": true
   },
   "outputs": [],
   "source": [
    "import numpy as np\n",
    "from numpy.linalg import qr, inv, matrix_rank\n",
    "\n",
    "from numpy.linalg import qr,lstsq, inv, matrix_rank\n",
    "\n",
    "\n",
    "\n",
    "def polyreg(data_x, data_y, weights = [], degree = 1, monomial = False):\n",
    "    \"\"\"\n",
    "    type(data_x): pandas dataframe\n",
    "    type(data_y): pandas dataframe\n",
    "    type(weights): list of weights\n",
    "    type(degree): int\n",
    "    type(monomial): bool\n",
    "    \n",
    "    returns dict of fitted vals, coefs and few more para\n",
    "    \"\"\"\n",
    "    data_x = polybasis(data_x, degree, monomial)\n",
    "    row,col = data_x.shape\n",
    "    x_col = data_x.columns\n",
    "    x = np.asarray(data_x)\n",
    "    \n",
    "#     y_col = data_y.columns\n",
    "    y = np.asarray(data_y)\n",
    "    \n",
    "    if len(weights) == row:\n",
    "        if any([True for ele in weights if ele<=0]):\n",
    "            print(\"Only positive weights\")\n",
    "        \n",
    "        weights = [ele**0.5 for ele in weights]\n",
    "        y = np.multiply(y,np.reshape(np.array(weights),(row,1)))\n",
    "        x = np.multiply(x,np.reshape(np.array(weights),(row,1)))\n",
    "    \n",
    "    q, r = qr(x)\n",
    "    rank_r = matrix_rank(r)\n",
    "    if rank_r < col:\n",
    "        print(\"Didn't handle this case yet\")\n",
    "        ##inverse would not be possible\n",
    "        ##gives error: LinAlgError: Incompatible dimensions :: but not in R\n",
    "        \n",
    "    coef = np.dot(np.dot(inv(r), q.T), y) # betas: R^-1 Q^T y\n",
    "    fitted = np.dot(x, coef)\n",
    "    if len(weights) == row:\n",
    "        fitted = fitted/w\n",
    "        \n",
    "    return {'fitted': fitted,\n",
    "           'coefficients': coef,\n",
    "           'degree': degree,\n",
    "           'monomial': monomial,\n",
    "           'df': rank_r}\n",
    "        \n",
    "     \n",
    "    \n",
    "        \n",
    "    "
   ]
  },
  {
   "cell_type": "code",
   "execution_count": 8,
   "metadata": {
    "collapsed": true
   },
   "outputs": [],
   "source": [
    "# ret = polybasis(data_x)\n",
    "# polyreg(data_x,data_y)"
   ]
  },
  {
   "cell_type": "code",
   "execution_count": 9,
   "metadata": {},
   "outputs": [],
   "source": [
    "# ret.head()\n"
   ]
  },
  {
   "cell_type": "markdown",
   "metadata": {},
   "source": [
    "## contr.fda"
   ]
  },
  {
   "cell_type": "code",
   "execution_count": 10,
   "metadata": {},
   "outputs": [],
   "source": [
    "from patsy import Helmert\n",
    "from numpy.linalg import qr\n",
    "\n",
    "# t=Helmert()\n",
    "# theta = t.code_without_intercept(levels = np.unique(data_y)).matrix\n",
    "\n",
    "# dp = np.array([1/3]*3)\n",
    "\n",
    "def contr_fda(p,contrasts_):\n",
    "    \"\"\"\n",
    "    type(p): numpy array\n",
    "    type(contrasts_): numpy array of helmert contrasts\n",
    "    returns np array\n",
    "    \"\"\"\n",
    "    dim = len(p)\n",
    "    sqp = np.sqrt(p/np.sum(p))\n",
    "    x = np.append(np.array([[1]*dim]).T,contrasts_,1)*sqp\n",
    "    tmp_y = np.append(np.zeros((1,dim-1)),np.identity(dim-1),0)\n",
    "    tmp_deno = np.array([sqp]*(dim-1)).T\n",
    "    return np.dot(qr(x)[0],tmp_y)/tmp_deno\n",
    "    \n",
    "    "
   ]
  },
  {
   "cell_type": "markdown",
   "metadata": {},
   "source": [
    "## predict_fda"
   ]
  },
  {
   "cell_type": "code",
   "execution_count": 11,
   "metadata": {},
   "outputs": [],
   "source": [
    "from sklearn.metrics import confusion_matrix\n",
    "def predict_fda(fda_object):\n",
    "\n",
    "    lambd = fda_object['values']\n",
    "    alpha = np.sqrt(lambd)\n",
    "    sgima = np.sqrt(1-lambd)\n",
    "    new_data = np.matmul(fda_object['fit']['fitted'],fda_object['theta_mod'])/(sgima*alpha)\n",
    "    prior = 2*np.log(fda_object['prior'])\n",
    "\n",
    "    dist_mat = np.zeros((150,3))\n",
    "    dim = 3\n",
    "    for i in range(dim):\n",
    "        dist_mat[:,i] = np.sqrt(np.sum((new_data - fda_object['means'][i,])**2,axis=1))\n",
    "\n",
    "    pclass = np.argmin(dist_mat,axis=1)\n",
    "    \n",
    "    return (confusion_matrix(pclass, np.array(data_y)), pclass)\n"
   ]
  },
  {
   "cell_type": "markdown",
   "metadata": {},
   "source": [
    "## fda"
   ]
  },
  {
   "cell_type": "code",
   "execution_count": 12,
   "metadata": {},
   "outputs": [],
   "source": [
    "from numpy.linalg import svd\n",
    "\n",
    "def fda(df_x,df_y):\n",
    "    \"\"\"\n",
    "    type(df_x): pandas dataframe\n",
    "    type(df_y): pandas dataframe\n",
    "    \"\"\"\n",
    "    x_dim,y_dim = df_x.shape\n",
    "    t=Helmert()\n",
    "    theta = t.code_without_intercept(levels = np.unique(df_y)).matrix\n",
    "    prior = np.array([1/3]*3)\n",
    "    \n",
    "    theta = contr_fda(prior,theta)\n",
    "    \n",
    "    level_counts = df_y[df_y.columns[0]].value_counts().sort_index()\n",
    "    lvl_count = 0\n",
    "    i=0\n",
    "    Theta = np.empty((df_y.shape[0],level_counts.shape[0]-1))\n",
    "    for item in level_counts:\n",
    "        Theta[lvl_count:lvl_count+item] = theta[level_counts.index[i]]\n",
    "        i+=1\n",
    "        lvl_count+=item\n",
    "    \n",
    "    fit =  polyreg(df_x,Theta)\n",
    "    ssm = np.matmul(Theta.T, (fit['fitted']/x_dim))\n",
    "    thetan, lambd, _ = svd(ssm)\n",
    "    \n",
    "    discr_eigen = lambd/(1-lambd)\n",
    "    pe = 100*np.cumsum(discr_eigen)/np.sum(discr_eigen)\n",
    "    \n",
    "    ##not yet implemented\n",
    "#     dimension = lambd.size\n",
    "    dimension = 3\n",
    "    alpha = np.sqrt(lambd)\n",
    "    sgima = np.sqrt(1-lambd)\n",
    "    means = np.matmul(theta, thetan)/(sgima/alpha)\n",
    "    obj = {\n",
    "        \"percent_explained\": pe,\n",
    "        'values' : lambd,\n",
    "        'means' : means,\n",
    "        'theta_mod' : thetan,\n",
    "        'dimension' : dimension,\n",
    "        'prior' : prior,\n",
    "        'fit': fit\n",
    "    }\n",
    "    confusion, predictions = predict_fda(obj)\n",
    "    obj['confusion_matrix'] = confusion\n",
    "    obj['predicted_class'] = predictions\n",
    "    return obj\n",
    "    \n",
    "    \n",
    "    \n",
    "    "
   ]
  },
  {
   "cell_type": "code",
   "execution_count": 13,
   "metadata": {},
   "outputs": [],
   "source": [
    "fda_out = fda(data_x,data_y)"
   ]
  },
  {
   "cell_type": "code",
   "execution_count": 49,
   "metadata": {},
   "outputs": [],
   "source": []
  },
  {
   "cell_type": "code",
   "execution_count": null,
   "metadata": {},
   "outputs": [],
   "source": []
  }
 ],
 "metadata": {
  "kernelspec": {
   "display_name": "Python 3",
   "language": "python",
   "name": "python3"
  },
  "language_info": {
   "codemirror_mode": {
    "name": "ipython",
    "version": 3
   },
   "file_extension": ".py",
   "mimetype": "text/x-python",
   "name": "python",
   "nbconvert_exporter": "python",
   "pygments_lexer": "ipython3",
   "version": "3.6.2"
  }
 },
 "nbformat": 4,
 "nbformat_minor": 2
}
