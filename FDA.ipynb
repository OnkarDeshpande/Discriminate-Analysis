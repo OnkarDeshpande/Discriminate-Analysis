{
 "cells": [
  {
   "cell_type": "code",
   "execution_count": 1,
   "metadata": {
    "collapsed": true
   },
   "outputs": [],
   "source": [
    "import numpy as np\n",
    "from sklearn import datasets\n",
    "import pandas as pd"
   ]
  },
  {
   "cell_type": "code",
   "execution_count": 2,
   "metadata": {},
   "outputs": [
    {
     "data": {
      "text/html": [
       "<div>\n",
       "<style scoped>\n",
       "    .dataframe tbody tr th:only-of-type {\n",
       "        vertical-align: middle;\n",
       "    }\n",
       "\n",
       "    .dataframe tbody tr th {\n",
       "        vertical-align: top;\n",
       "    }\n",
       "\n",
       "    .dataframe thead th {\n",
       "        text-align: right;\n",
       "    }\n",
       "</style>\n",
       "<table border=\"1\" class=\"dataframe\">\n",
       "  <thead>\n",
       "    <tr style=\"text-align: right;\">\n",
       "      <th></th>\n",
       "      <th>Sepal.Length</th>\n",
       "      <th>Sepal.Width</th>\n",
       "      <th>Petal.Length</th>\n",
       "      <th>Petal.Width</th>\n",
       "      <th>Species</th>\n",
       "    </tr>\n",
       "  </thead>\n",
       "  <tbody>\n",
       "    <tr>\n",
       "      <th>0</th>\n",
       "      <td>5.1</td>\n",
       "      <td>3.5</td>\n",
       "      <td>1.4</td>\n",
       "      <td>0.2</td>\n",
       "      <td>0</td>\n",
       "    </tr>\n",
       "    <tr>\n",
       "      <th>1</th>\n",
       "      <td>4.9</td>\n",
       "      <td>3.0</td>\n",
       "      <td>1.4</td>\n",
       "      <td>0.2</td>\n",
       "      <td>0</td>\n",
       "    </tr>\n",
       "    <tr>\n",
       "      <th>2</th>\n",
       "      <td>4.7</td>\n",
       "      <td>3.2</td>\n",
       "      <td>1.3</td>\n",
       "      <td>0.2</td>\n",
       "      <td>0</td>\n",
       "    </tr>\n",
       "    <tr>\n",
       "      <th>3</th>\n",
       "      <td>4.6</td>\n",
       "      <td>3.1</td>\n",
       "      <td>1.5</td>\n",
       "      <td>0.2</td>\n",
       "      <td>0</td>\n",
       "    </tr>\n",
       "    <tr>\n",
       "      <th>4</th>\n",
       "      <td>5.0</td>\n",
       "      <td>3.6</td>\n",
       "      <td>1.4</td>\n",
       "      <td>0.2</td>\n",
       "      <td>0</td>\n",
       "    </tr>\n",
       "  </tbody>\n",
       "</table>\n",
       "</div>"
      ],
      "text/plain": [
       "   Sepal.Length  Sepal.Width  Petal.Length  Petal.Width  Species\n",
       "0           5.1          3.5           1.4          0.2        0\n",
       "1           4.9          3.0           1.4          0.2        0\n",
       "2           4.7          3.2           1.3          0.2        0\n",
       "3           4.6          3.1           1.5          0.2        0\n",
       "4           5.0          3.6           1.4          0.2        0"
      ]
     },
     "execution_count": 2,
     "metadata": {},
     "output_type": "execute_result"
    }
   ],
   "source": [
    "data = pd.read_csv('iris_data.csv')\n",
    "data['Species'] = data['Species'].astype('category').cat.codes\n",
    "data.head()"
   ]
  },
  {
   "cell_type": "code",
   "execution_count": 3,
   "metadata": {
    "collapsed": true
   },
   "outputs": [],
   "source": [
    "data_x = data[[item for item in data.columns[:4]]]\n",
    "data_y = data[['Species']]"
   ]
  },
  {
   "cell_type": "code",
   "execution_count": 4,
   "metadata": {
    "collapsed": true
   },
   "outputs": [],
   "source": [
    "def polybasis(data, degree=1, monomial = False):\n",
    "    \"\"\"\n",
    "    type(x): pandas dataframe\n",
    "    type(degree): int\n",
    "    type(monomial): Bool\n",
    "    \n",
    "    returns: polybasis of x as pandas dataframe\n",
    "    \"\"\"\n",
    "    col_names = data.columns\n",
    "    x = np.asarray(data)\n",
    "    row,col = data.shape\n",
    "    \n",
    "    if degree >= 3:\n",
    "        print(\"This is not a smart polynomial routine.\\\n",
    "        You may get numerical problems with a degree of 3 or more\")\n",
    "    \n",
    "    if col==1:\n",
    "        monomial = True\n",
    "    if degree > 1:\n",
    "        if monomial:\n",
    "            ini_data = data\n",
    "            tmp_data = ini_data\n",
    "            cc = ['1']\n",
    "            for _ in range(1,degree):\n",
    "                tmp_data*=ini_data\n",
    "                x = np.concatenate((x,tmp_data),axis=1)\n",
    "                cc.append(str(_+1))\n",
    "        else:\n",
    "            matarray = np.repeat(x[:,:,np.newaxis], degree, axis=2)\n",
    "            for _ in range(1,degree):\n",
    "                matarray[:, :, _] =np.power(x,_+1) \n",
    "            matarray = np.transpose(matarray,(0,2,1))\n",
    "            \n",
    "            x = matarray[:, :, col-1 ]\n",
    "            \n",
    "            ad0 = list(range(1,degree+1))\n",
    "            ad = ad0\n",
    "            ncol_mat0 = degree\n",
    "            ncol_x = degree\n",
    "            d0 = [str(item) for item in ad0]\n",
    "            cc = d0\n",
    "\n",
    "            for _ in range(col-2,-1,-1):\n",
    "                index0 = list(range(1,ncol_mat0+1))*ncol_x\n",
    "                index = [item for item in range(1,ncol_x+1) for _ in range(ncol_mat0)]\n",
    "                newad = [ad0[index0[i]-1]+ad[index[i]-1] for i in range(len(index0))]\n",
    "                retain = [ True if newad[i]<=degree else False for i in range(len(newad))]\n",
    "                \n",
    "                mat0 = matarray[:, :, _]\n",
    "                tmp_index0 = [index0[i]-1 for i in range(len(index0)) if retain[i]]\n",
    "                tmp_index = [index[i]-1 for i in range(len(index)) if retain[i]]\n",
    "                if any(retain):\n",
    "                    newmat = np.multiply(mat0[:, tmp_index0 ], x[:,tmp_index])\n",
    "                \n",
    "\n",
    "                ddn = [ele+val for ele,val in zip([d0[ele] for ele in tmp_index0],\\\n",
    "                                                 [cc[ele] for ele in tmp_index])]        \n",
    "                zeros = '0'*sum(retain)\n",
    "                cc = ['0'+ele for ele in cc]\n",
    "                d00 = [ele+zeros for ele in d0]\n",
    "                x = np.concatenate((mat0,x,newmat), axis=1)\n",
    "                cc = d00+cc+ddn\n",
    "                ad = ad0+ad+ [newad[i] for i in range(len(newad)) if retain[i]]\n",
    "                ncol_x = len(ad)\n",
    "#             if dn:\n",
    "        col_names = cc\n",
    "    \n",
    "    data = pd.DataFrame(x,columns=col_names)\n",
    "    data['intercept'] = 1\n",
    "\n",
    "    \n",
    "    return data\n",
    "        \n",
    "        \n",
    "        "
   ]
  },
  {
   "cell_type": "code",
   "execution_count": 5,
   "metadata": {
    "collapsed": true
   },
   "outputs": [],
   "source": [
    "# ret = polybasis(pd.DataFrame(data_x['Sepal.Length']),degree = 2)\n",
    "# ret =  polybasis(data_x,degree =2)"
   ]
  },
  {
   "cell_type": "code",
   "execution_count": 6,
   "metadata": {},
   "outputs": [],
   "source": [
    "# ret.head()"
   ]
  },
  {
   "cell_type": "code",
   "execution_count": 7,
   "metadata": {
    "collapsed": true
   },
   "outputs": [],
   "source": [
    "import numpy as np\n",
    "from numpy.linalg import qr, inv, matrix_rank\n",
    "\n",
    "from numpy.linalg import qr,lstsq, inv, matrix_rank\n",
    "\n",
    "\n",
    "\n",
    "def polyreg(data_x, data_y, weights = [], degree = 1, monomial = False):\n",
    "    \"\"\"\n",
    "    type(data_x): pandas dataframe\n",
    "    type(data_y): pandas dataframe\n",
    "    type(weights): list of weights\n",
    "    type(degree): int\n",
    "    type(monomial): bool\n",
    "    \n",
    "    returns dict of fitted vals, coefs and few more para\n",
    "    \"\"\"\n",
    "    data_x = polybasis(data_x, degree, monomial)\n",
    "    row,col = data_x.shape\n",
    "    x_col = data_x.columns\n",
    "    x = np.asarray(data_x)\n",
    "    \n",
    "#     y_col = data_y.columns\n",
    "    y = np.asarray(data_y)\n",
    "    \n",
    "    if len(weights) == row:\n",
    "        if any([True for ele in weights if ele<=0]):\n",
    "            print(\"Only positive weights\")\n",
    "        \n",
    "        weights = [ele**0.5 for ele in weights]\n",
    "        y = np.multiply(y,np.reshape(np.array(weights),(row,1)))\n",
    "        x = np.multiply(x,np.reshape(np.array(weights),(row,1)))\n",
    "    \n",
    "    q, r = qr(x)\n",
    "    rank_r = matrix_rank(r)\n",
    "    if rank_r < col:\n",
    "        print(\"Didn't handle this case yet\")\n",
    "        ##inverse would not be possible\n",
    "        ##gives error: LinAlgError: Incompatible dimensions :: but not in R\n",
    "        \n",
    "    coef = np.dot(np.dot(inv(r), q.T), y) # betas: R^-1 Q^T y\n",
    "    fitted = np.dot(x, coef)\n",
    "    if len(weights) == row:\n",
    "        fitted = fitted/w\n",
    "        \n",
    "    return {'fitted': fitted,\n",
    "           'coefficients': coef,\n",
    "           'degree': degree,\n",
    "           'monomial': monomial,\n",
    "           'df': rank_r}\n",
    "        \n",
    "     \n",
    "    \n",
    "        \n",
    "    "
   ]
  },
  {
   "cell_type": "code",
   "execution_count": 8,
   "metadata": {
    "collapsed": true
   },
   "outputs": [],
   "source": [
    "# ret = polybasis(data_x)\n",
    "# polyreg(data_x,data_y)"
   ]
  },
  {
   "cell_type": "code",
   "execution_count": 9,
   "metadata": {},
   "outputs": [],
   "source": [
    "# ret.head()\n"
   ]
  },
  {
   "cell_type": "code",
   "execution_count": null,
   "metadata": {
    "collapsed": true
   },
   "outputs": [],
   "source": []
  },
  {
   "cell_type": "markdown",
   "metadata": {},
   "source": [
    "## contr.fda"
   ]
  },
  {
   "cell_type": "code",
   "execution_count": 10,
   "metadata": {
    "collapsed": true
   },
   "outputs": [],
   "source": [
    "from patsy import Helmert\n",
    "from numpy.linalg import qr"
   ]
  },
  {
   "cell_type": "code",
   "execution_count": 11,
   "metadata": {},
   "outputs": [],
   "source": [
    "t=Helmert()\n",
    "theta = t.code_without_intercept(levels = np.unique(data_y)).matrix\n",
    "\n",
    "dp = np.array([1/3]*3)\n",
    "\n"
   ]
  },
  {
   "cell_type": "code",
   "execution_count": 12,
   "metadata": {},
   "outputs": [],
   "source": [
    "def contr_fda(p,contrasts_):\n",
    "    \"\"\"\n",
    "    type(p): numpy array\n",
    "    type(contrasts_): numpy array of helmert contrasts\n",
    "    returns np array\n",
    "    \"\"\"\n",
    "    dim = len(p)\n",
    "    sqp = np.sqrt(p/np.sum(p))\n",
    "    x = np.append(np.array([[1]*dim]).T,contrasts_,1)*sqp\n",
    "    tmp_y = np.append(np.zeros((1,dim-1)),np.identity(dim-1),0)\n",
    "    tmp_deno = np.array([sqp]*(dim-1)).T\n",
    "    return np.dot(qr(x)[0],tmp_y)/tmp_deno\n",
    "    \n",
    "    "
   ]
  },
  {
   "cell_type": "code",
   "execution_count": null,
   "metadata": {
    "collapsed": true
   },
   "outputs": [],
   "source": []
  },
  {
   "cell_type": "code",
   "execution_count": null,
   "metadata": {
    "collapsed": true
   },
   "outputs": [],
   "source": []
  },
  {
   "cell_type": "markdown",
   "metadata": {},
   "source": [
    "## fda"
   ]
  },
  {
   "cell_type": "code",
   "execution_count": 66,
   "metadata": {},
   "outputs": [],
   "source": [
    "from numpy.linalg import svd\n",
    "\n",
    "def fda(df_x,df_y):\n",
    "    \"\"\"\n",
    "    type(df_x): pandas dataframe\n",
    "    type(df_y): pandas dataframe\n",
    "    \"\"\"\n",
    "    x_dim,y_dim = df_x.shape\n",
    "    t=Helmert()\n",
    "    theta = t.code_without_intercept(levels = np.unique(df_y)).matrix\n",
    "    prior = np.array([1/3]*3)\n",
    "    \n",
    "    theta = contr_fda(prior,theta)\n",
    "    \n",
    "    level_counts = df_y[df_y.columns[0]].value_counts().sort_index()\n",
    "    lvl_count = 0\n",
    "    i=0\n",
    "#     print(df_y.shape[0],level_counts.shape[0]-1)\n",
    "    Theta = np.empty((df_y.shape[0],level_counts.shape[0]-1))\n",
    "    for item in level_counts:\n",
    "        Theta[lvl_count:lvl_count+item] = theta[level_counts.index[i]]\n",
    "        i+=1\n",
    "        lvl_count+=item\n",
    "    \n",
    "    fit =  polyreg(df_x,Theta)\n",
    "    ssm = np.matmul(Theta.T, (fit['fitted']/x_dim))\n",
    "    thetan, lambd, _ = svd(ssm)\n",
    "    \n",
    "    discr_eigen = lambd/(1-lambd)\n",
    "    pe = 100*np.cumsum(discr_eigen)/np.sum(discr_eigen)\n",
    "    \n",
    "    ##not yet implemented\n",
    "#     dimension = lambd.size\n",
    "    dimension = 3\n",
    "    alpha = np.sqrt(lambd)\n",
    "    sgima = np.sqrt(1-lambd)\n",
    "    means = np.matmul(theta, thetan)*sgima/alpha\n",
    "    return {\n",
    "        \"percent_explained\": pe,\n",
    "        'values' : lambd,\n",
    "        'means' : means,\n",
    "        'theta_mod' : thetan,\n",
    "        'dimention' : dimension,\n",
    "        'prior' : prior,\n",
    "        'fit': fit\n",
    "    }\n",
    "    \n",
    "    \n",
    "    \n",
    "    "
   ]
  },
  {
   "cell_type": "code",
   "execution_count": 67,
   "metadata": {},
   "outputs": [
    {
     "data": {
      "text/plain": [
       "{'dimention': 3, 'fit': {'coefficients': array([[ 0.10555274, -0.09731787],\n",
       "         [ 0.84319291,  0.4301367 ],\n",
       "         [-0.54541113,  0.00845964],\n",
       "         [ 0.53501004,  1.17050071],\n",
       "         [-1.78670201, -2.18202234]]),\n",
       "  'degree': 1,\n",
       "  'df': 5,\n",
       "  'fitted': array([[ 1.04621860e+00, -9.26921399e-01],\n",
       "         [ 6.03511595e-01, -1.12252618e+00],\n",
       "         [ 8.05580741e-01, -1.01788122e+00],\n",
       "         [ 6.01623950e-01, -1.04947118e+00],\n",
       "         [ 1.11998262e+00, -8.74175942e-01],\n",
       "         [ 1.35854026e+00, -5.47424048e-01],\n",
       "         [ 9.62623940e-01, -8.04226063e-01],\n",
       "         [ 8.96802921e-01, -9.59357319e-01],\n",
       "         [ 4.66415932e-01, -1.11688091e+00],\n",
       "         [ 5.79788769e-01, -1.19571661e+00],\n",
       "         [ 1.19198189e+00, -8.69243457e-01],\n",
       "         [ 8.21151259e-01, -9.39047781e-01],\n",
       "         [ 5.39455316e-01, -1.22984446e+00],\n",
       "         [ 6.50302283e-01, -1.18372341e+00],\n",
       "         [ 1.65078420e+00, -7.81667486e-01],\n",
       "         [ 1.92088476e+00, -3.63242986e-01],\n",
       "         [ 1.57670471e+00, -5.50807902e-01],\n",
       "         [ 1.09971960e+00, -8.09871329e-01],\n",
       "         [ 1.25238578e+00, -7.36683150e-01],\n",
       "         [ 1.29813636e+00, -6.79984354e-01],\n",
       "         [ 8.29941793e-01, -9.96592540e-01],\n",
       "         [ 1.26731808e+00, -6.05947954e-01],\n",
       "         [ 1.29592597e+00, -8.38632648e-01],\n",
       "         [ 8.74459690e-01, -6.59260636e-01],\n",
       "         [ 6.57527921e-01, -9.36509890e-01],\n",
       "         [ 5.04984643e-01, -1.13056604e+00],\n",
       "         [ 9.49263816e-01, -7.24411213e-01],\n",
       "         [ 1.00223276e+00, -9.35807223e-01],\n",
       "         [ 9.72454582e-01, -9.79666857e-01],\n",
       "         [ 6.41957403e-01, -1.01534333e+00],\n",
       "         [ 5.68193386e-01, -1.06808879e+00],\n",
       "         [ 1.04602603e+00, -7.64184326e-01],\n",
       "         [ 1.45464750e+00, -7.94775273e-01],\n",
       "         [ 1.67867473e+00, -6.64752857e-01],\n",
       "         [ 6.33289773e-01, -1.07866654e+00],\n",
       "         [ 8.91787677e-01, -1.04792255e+00],\n",
       "         [ 1.14298081e+00, -9.66694511e-01],\n",
       "         [ 1.05592634e+00, -9.81494226e-01],\n",
       "         [ 6.05276336e-01, -1.07471320e+00],\n",
       "         [ 9.07358195e-01, -9.69089106e-01],\n",
       "         [ 1.14370544e+00, -8.00985505e-01],\n",
       "         [ 7.90975753e-02, -1.26849061e+00],\n",
       "         [ 7.73914918e-01, -9.88685863e-01],\n",
       "         [ 1.14058511e+00, -4.47297402e-01],\n",
       "         [ 1.13347292e+00, -5.59550429e-01],\n",
       "         [ 6.46457324e-01, -9.95744318e-01],\n",
       "         [ 1.19009425e+00, -7.96188461e-01],\n",
       "         [ 7.40484354e-01, -1.00730347e+00],\n",
       "         [ 1.18142662e+00, -8.59511670e-01],\n",
       "         [ 8.67024742e-01, -1.00321695e+00],\n",
       "         [-1.64033740e-01,  1.91651284e-01],\n",
       "         [-6.47821565e-02,  3.65400151e-01],\n",
       "         [-3.14489527e-01,  2.77111400e-01],\n",
       "         [-7.52949690e-01, -1.72466756e-01],\n",
       "         [-4.46045160e-01,  1.84459647e-01],\n",
       "         [-5.82948249e-01,  2.73678388e-02],\n",
       "         [-4.65993616e-02,  5.36887606e-01],\n",
       "         [-5.10677266e-01, -4.28134321e-01],\n",
       "         [-4.58172602e-01, -1.63586117e-02],\n",
       "         [-3.39296232e-01,  1.44987393e-01],\n",
       "         [-9.46481382e-01, -6.08228861e-01],\n",
       "         [-1.22573772e-01,  3.25493855e-01],\n",
       "         [-9.44995621e-01, -6.15289574e-01],\n",
       "         [-5.11989083e-01,  1.50196358e-01],\n",
       "         [-1.83142170e-02,  7.24996230e-02],\n",
       "         [-1.16395516e-01,  1.75295085e-01],\n",
       "         [-3.17862934e-01,  3.57227108e-01],\n",
       "         [-5.99050826e-01, -3.79911685e-01],\n",
       "         [-9.29085617e-01, -4.52729763e-02],\n",
       "         [-6.26216728e-01, -3.31117308e-01],\n",
       "         [-1.20678855e-01,  7.67747190e-01],\n",
       "         [-2.68021588e-01, -1.57891282e-02],\n",
       "         [-8.83736921e-01,  7.74201016e-02],\n",
       "         [-7.03310381e-01, -1.26917453e-01],\n",
       "         [-3.15659812e-01,  5.67071526e-04],\n",
       "         [-2.11270081e-01,  1.42013202e-01],\n",
       "         [-5.76962566e-01,  3.99061419e-02],\n",
       "         [-3.67458472e-01,  4.88507409e-01],\n",
       "         [-3.59961128e-01,  2.75286289e-01],\n",
       "         [-3.66678715e-01, -4.18269350e-01],\n",
       "         [-6.66550181e-01, -3.65245155e-01],\n",
       "         [-6.65510071e-01, -4.83141189e-01],\n",
       "         [-3.82966593e-01, -1.47503471e-01],\n",
       "         [-8.02345383e-01,  3.11384801e-01],\n",
       "         [-3.38973482e-01,  3.76690682e-01],\n",
       "         [ 1.15136332e-01,  6.07404710e-01],\n",
       "         [-2.26517850e-01,  2.94883046e-01],\n",
       "         [-8.86671946e-01, -2.46937198e-01],\n",
       "         [-2.06700490e-01,  1.19743111e-01],\n",
       "         [-5.84311107e-01, -8.64394157e-02],\n",
       "         [-7.71657271e-01, -1.57091962e-01],\n",
       "         [-3.73128679e-01,  1.92364065e-01],\n",
       "         [-5.21826997e-01, -1.89671178e-01],\n",
       "         [-5.84441283e-01, -4.80879778e-01],\n",
       "         [-5.14199476e-01, -8.45193526e-03],\n",
       "         [-3.04187332e-01, -6.19278272e-03],\n",
       "         [-3.35005620e-01,  6.78436179e-02],\n",
       "         [-3.36770361e-01,  2.00306458e-02],\n",
       "         [-1.88123084e-01, -2.90072045e-01],\n",
       "         [-3.64783798e-01,  2.39839841e-02],\n",
       "         [-2.74124794e-01,  1.60133577e+00],\n",
       "         [-6.62952921e-01,  6.81998588e-01],\n",
       "         [-6.02103375e-01,  9.25394216e-01],\n",
       "         [-7.67744534e-01,  6.06546740e-01],\n",
       "         [-5.57392905e-01,  1.09998905e+00],\n",
       "         [-9.31114793e-01,  8.82657026e-01],\n",
       "         [-7.06344303e-01,  4.44381408e-01],\n",
       "         [-1.04397958e+00,  5.15150614e-01],\n",
       "         [-1.17188283e+00,  3.97256838e-01],\n",
       "         [ 1.92894355e-02,  1.64363666e+00],\n",
       "         [-1.13968540e-01,  9.45994499e-01],\n",
       "         [-7.08703500e-01,  6.25299792e-01],\n",
       "         [-4.15604747e-01,  9.51205723e-01],\n",
       "         [-7.34104661e-01,  7.21907142e-01],\n",
       "         [-3.11128610e-01,  1.31026261e+00],\n",
       "         [-7.31030290e-02,  1.30856843e+00],\n",
       "         [-6.07773582e-01,  6.29250872e-01],\n",
       "         [-2.47045299e-01,  1.33493063e+00],\n",
       "         [-1.31445801e+00,  9.37508591e-01],\n",
       "         [-1.22290173e+00, -2.15795837e-02],\n",
       "         [-2.38491109e-01,  1.26329334e+00],\n",
       "         [-4.37160949e-01,  8.59833976e-01],\n",
       "         [-1.19724022e+00,  6.70693792e-01],\n",
       "         [-5.54595327e-01,  5.14597654e-01],\n",
       "         [-2.82284374e-01,  1.09167045e+00],\n",
       "         [-6.37953643e-01,  6.51385521e-01],\n",
       "         [-4.26290197e-01,  5.66497148e-01],\n",
       "         [-3.22748002e-01,  6.63102239e-01],\n",
       "         [-6.81005540e-01,  9.04951495e-01],\n",
       "         [-8.04512007e-01,  3.29566112e-01],\n",
       "         [-9.55160368e-01,  5.77763300e-01],\n",
       "         [-1.69313419e-01,  1.07882903e+00],\n",
       "         [-6.27504536e-01,  1.02200157e+00],\n",
       "         [-7.39861273e-01,  2.08153039e-01],\n",
       "         [-1.25581697e+00,  2.87690210e-02],\n",
       "         [-5.40851947e-01,  1.10279556e+00],\n",
       "         [-2.51420557e-02,  1.52391551e+00],\n",
       "         [-5.34009565e-01,  6.81996329e-01],\n",
       "         [-2.78762164e-01,  6.71988062e-01],\n",
       "         [-2.66189069e-01,  9.83641642e-01],\n",
       "         [-2.35878832e-01,  1.35594736e+00],\n",
       "         [ 4.43627724e-03,  1.21520389e+00],\n",
       "         [-6.62952921e-01,  6.81998588e-01],\n",
       "         [-3.58128609e-01,  1.27471706e+00],\n",
       "         [-6.82803585e-02,  1.55987073e+00],\n",
       "         [-1.55534675e-01,  1.19249976e+00],\n",
       "         [-7.24274018e-01,  5.46466348e-01],\n",
       "         [-3.37148236e-01,  8.60813123e-01],\n",
       "         [ 1.98838919e-02,  1.41490530e+00],\n",
       "         [-4.52940776e-01,  6.84257740e-01]]),\n",
       "  'monomial': False}, 'means': array([[-0.23871935,  0.76147157],\n",
       "        [ 0.05726834, -2.57642864],\n",
       "        [ 0.18145101,  1.81495707]]), 'percent_explained': array([ 99.1212605, 100.       ]), 'prior': array([0.33333333, 0.33333333, 0.33333333]), 'theta_mod': array([[-0.68560114,  0.72797739],\n",
       "        [ 0.72797739,  0.68560114]]), 'values': array([0.96987219, 0.22202663])}"
      ]
     },
     "execution_count": 67,
     "metadata": {},
     "output_type": "execute_result"
    }
   ],
   "source": [
    "fda(data_x,data_y)"
   ]
  },
  {
   "cell_type": "code",
   "execution_count": 22,
   "metadata": {},
   "outputs": [],
   "source": [
    "# np.matmul(Theta.T,method_output['fitted']/150)\n",
    "from numpy.linalg import svd"
   ]
  },
  {
   "cell_type": "code",
   "execution_count": 37,
   "metadata": {},
   "outputs": [
    {
     "data": {
      "text/plain": [
       "array([[2., 1.],\n",
       "       [1., 5.]])"
      ]
     },
     "execution_count": 37,
     "metadata": {},
     "output_type": "execute_result"
    }
   ],
   "source": [
    "np.matmul(np.identity(2),np.array(([4,2],[2,10]))/2)"
   ]
  },
  {
   "cell_type": "code",
   "execution_count": 60,
   "metadata": {},
   "outputs": [
    {
     "data": {
      "text/plain": [
       "array([ 99.1212605, 100.       ])"
      ]
     },
     "execution_count": 60,
     "metadata": {},
     "output_type": "execute_result"
    }
   ],
   "source": [
    "100*np.cumsum(method_output[1]/(1-method_output[1]))/np.sum(method_output[1]/(1-method_output[1]))"
   ]
  },
  {
   "cell_type": "code",
   "execution_count": null,
   "metadata": {
    "collapsed": true
   },
   "outputs": [],
   "source": []
  }
 ],
 "metadata": {
  "kernelspec": {
   "display_name": "Python 3",
   "language": "python",
   "name": "python3"
  },
  "language_info": {
   "codemirror_mode": {
    "name": "ipython",
    "version": 3
   },
   "file_extension": ".py",
   "mimetype": "text/x-python",
   "name": "python",
   "nbconvert_exporter": "python",
   "pygments_lexer": "ipython3",
   "version": "3.6.2"
  }
 },
 "nbformat": 4,
 "nbformat_minor": 2
}
